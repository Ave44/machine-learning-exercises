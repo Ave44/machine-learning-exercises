{
  "cells": [
    {
      "cell_type": "markdown",
      "metadata": {
        "tags": []
      },
      "source": [
        "# Inteligencja obliczeniowa - Projekt 1\n",
        "**Autor:** *Paweł Olszewski*"
      ]
    },
    {
      "cell_type": "markdown",
      "metadata": {},
      "source": [
        "# Wstęp\n",
        "\n",
        "Poniższa praca opisuje moje implementacje algorytmów inspirowanych biologicznie rozwiązujących nonogramy czyli japońskie łamigłówki polegające na tworzeniu obrazków po przez zamalowywanie odpowiednich pixeli zgodnie ze wzorami zawartymi na krawędziach planszy. Zamalowane pixele tworzą bloki których kolejność, długość i kolor muszą zgadzać się z szablonem podanym na początku rzędu bądź kolumny. W przyadku jednokolorowych bloków musi być zachowana między nimi przerwa co najmniej jednego pixela.\n",
        "\n",
        "W dalszej części pracy zostały opisane algorytmy:\n",
        "- Dwa algorytmy genetyczne rozwiązujące problem dla czarno białych nonogramów\n",
        "- Dwa algorytmy typu rój cząstek rozwiązujące problem dla czarno białych nonogramów\n",
        "- Dwa algorytmy genetyczne rozwiązujące problem dla kolorowych nonogramów"
      ]
    },
    {
      "cell_type": "markdown",
      "metadata": {},
      "source": [
        "# 1. Pierwsza wersja algortmu genetycznego\n",
        "\n",
        "Pierwsza wersja algorytmu działa na prostej zasadzie, traktuje każdy pixel obrazka jako osobny gen **(num_genes = height\\*width)** który może być albo zamalowany albo pusty **(genes_pace = [0, 1])**. Po losowym przydzieleniu wartości dla każdego pixela funkcja **fitness_func** ocenia rozwiązanie, porównując wzory w jakie układają się zamalowane bloki do wzorów które opisują obrazek, dla każdego rzędu i kolumny obrazka. Korzysta ona z funkcji **gradeFunc** która po otrzymaniu listy pixeli *(postaci [1, 0, 0, 0, 1, 1])* i wzoru *(postaci [1,2])*:\n",
        "- tworz z pierwszego parametru drugi wzór\n",
        "- porównuje ilość zamalowanych pixeli w obu wzorach *(jeden pixel różnicy jeden punkt ujemny)*\n",
        "- porównuje każy element obu wzorów *(jeśli n'ty element wyenerowanego wzoru nie zgadza się z n'tym elementem orginalnego wzoru to odejmuje różnicę długości tych elementów od ogólnego wyniku, a jeśli wzory nie są równej długości to dodatkowo odejmuję długości nadmiarowych bloków)*\n",
        "- zwaraca ilość ujemnych punktów\n",
        "\n",
        "Algorytm kończy się gdy rozwiąże nonogram lub gdy przez dwieście generacji najlepszy wynik się nie zmieni. Po zakończeniu program wypisze ilość generacji jaką mu zajęło odnajdywanie wyniku, dopasowanie *(Fitness)* odnalezionego wyniku oraz wyświetli wykres jak zmieniało się dopasowanie najlepszego rozwiązania oraz wyświetli wygenerowany obrazek. W przypadku nie odnalezienia poprawnego rozwiązania funkcja dodatkowo wypisze w konsoli wszystkie rzędy i kolumny z których składa się obrazek, wraz z ich punktacją.\n",
        "\n",
        "Ta wersja algorytmu potrafi bezbłędnie rozwiązać nonogram wielkości 10x10 w bardzo krótkim czasie, aczkolwiek nie zawsze jej się udaje.\n",
        "\n",
        ">Zauważyłem że wszystkie stwożone przeze mnie algorytmy działją najlepiej gdy wartość **mutation_percent_genes** jest możliwie najmniejsza, lecz co ważne nie *zerowa*, więc napisałem funkcję **getPercentageOfMutations(num_genes)** która dobiera ten parametr w taki sposób aby tylko jeden gen był wybierany do mutowania. Ta funkcja jest użyta we wszystkich funkcjach opisanych w tej pracy"
      ]
    },
    {
      "cell_type": "code",
      "execution_count": 1,
      "metadata": {
        "trusted": true
      },
      "outputs": [
        {
          "name": "stdout",
          "output_type": "stream",
          "text": [
            "Generations: 278 Fitness: -4\n",
            "Mistakes in paterns:\n",
            "rows\n",
            "[0. 0. 0. 0. 0. 1. 0. 0. 0. 0.] 0\n",
            "[0. 0. 0. 0. 1. 1. 0. 0. 0. 0.] 0\n",
            "[0. 0. 0. 1. 1. 1. 0. 0. 0. 0.] 0\n",
            "[0. 0. 1. 1. 1. 1. 0. 0. 0. 0.] 0\n",
            "[0. 1. 1. 1. 1. 1. 0. 0. 0. 0.] 0\n",
            "[0. 0. 0. 0. 0. 1. 0. 1. 1. 0.] 0\n",
            "[1. 1. 1. 1. 1. 1. 1. 1. 0. 0.] 0\n",
            "[0. 1. 1. 1. 1. 1. 1. 0. 0. 0.] 0\n",
            "[1. 0. 1. 0. 1. 0. 0. 1. 0. 1.] 0\n",
            "[0. 1. 0. 1. 0. 1. 1. 0. 1. 0.] -2\n",
            "columns\n",
            "[0, 0, 0, 0, 0, 0, 1, 0, 1, 0] 0\n",
            "[0, 0, 0, 0, 1, 0, 1, 1, 0, 1] 0\n",
            "[0, 0, 0, 1, 1, 0, 1, 1, 1, 0] 0\n",
            "[0, 0, 1, 1, 1, 0, 1, 1, 0, 1] 0\n",
            "[0, 1, 1, 1, 1, 0, 1, 1, 1, 0] 0\n",
            "[1, 1, 1, 1, 1, 1, 1, 1, 0, 1] 0\n",
            "[0, 0, 0, 0, 0, 0, 1, 1, 0, 1] -2\n",
            "[0, 0, 0, 0, 0, 1, 1, 0, 1, 0] 0\n",
            "[0, 0, 0, 0, 0, 1, 0, 0, 0, 1] 0\n",
            "[0, 0, 0, 0, 0, 0, 0, 0, 1, 0] 0\n",
            "░░░░░░░░░░██░░░░░░░░\n",
            "░░░░░░░░████░░░░░░░░\n",
            "░░░░░░██████░░░░░░░░\n",
            "░░░░████████░░░░░░░░\n",
            "░░██████████░░░░░░░░\n",
            "░░░░░░░░░░██░░████░░\n",
            "████████████████░░░░\n",
            "░░████████████░░░░░░\n",
            "██░░██░░██░░░░██░░██\n",
            "░░██░░██░░████░░██░░\n"
          ]
        },
        {
          "data": {
            "image/png": "[encoded data removed]",
            "text/plain": [
              "<pyolite.display.Image at 0x2b3fe88>"
            ]
          },
          "metadata": {},
          "output_type": "display_data"
        },
        {
          "data": {
            "image/png": "[encoded data removed]",
            "text/plain": [
              "<pyolite.display.Image at 0x2da2f78>"
            ]
          },
          "metadata": {},
          "output_type": "display_data"
        },
        {
          "data": {
            "text/plain": [
              "<pygad.pygad.GA at 0x31137b8>"
            ]
          },
          "execution_count": 1,
          "metadata": {},
          "output_type": "execute_result"
        }
      ],
      "source": [
        "import piplite\n",
        "await piplite.install('pygad')\n",
        "import pygad\n",
        "import numpy as np\n",
        "import matplotlib.pyplot as plt\n",
        "\n",
        "# statek\n",
        "verticalM10 = [[1,1],[1,2,1],[2,3],[3,2,1],[4,3],[8,1],[3],[2,1],[1,1],[1]]\n",
        "horizontalM10 = [[1],[2],[3],[4],[5],[1,2],[8],[6],[1,1,1,1,1],[1,1,1,1,1]]\n",
        "\n",
        "def getPercentageOfMutations(num_genes):\n",
        "    return 100/num_genes\n",
        "\n",
        "def runAlgorythmV1(verticalPattern, horizontalPattern):\n",
        "    height = len(verticalPattern)\n",
        "    width = len(horizontalPattern)\n",
        "\n",
        "    def createImg(genes, height, width):\n",
        "        img = np.zeros((height, width))\n",
        "        index = 0\n",
        "        for i in range(height):\n",
        "            for j in range(width):\n",
        "                img[i][j] = abs(genes[index]-1)\n",
        "                index += 1\n",
        "        \n",
        "        return img\n",
        "\n",
        "    def gradeFunc(solution, pattern):\n",
        "        solutionPattern = [0]\n",
        "        for i in solution:\n",
        "            if i == 0:\n",
        "                solutionPattern.append(0)\n",
        "            else:\n",
        "                if solutionPattern[-1] != 0:\n",
        "                    solutionPattern[-1] = solutionPattern[-1] + 1\n",
        "                else:\n",
        "                    solutionPattern.append(1)\n",
        "        filteredRowPatern = list(filter(lambda n: n != 0 , solutionPattern))\n",
        "\n",
        "        grade = -abs(sum(pattern) - sum(filteredRowPatern))\n",
        "\n",
        "        for i in range(len(pattern)):\n",
        "            if i < len(filteredRowPatern):\n",
        "                if pattern[i] != filteredRowPatern[i]:\n",
        "                    grade -= abs(pattern[i] - filteredRowPatern[i])\n",
        "            else:\n",
        "                grade -= pattern[i]\n",
        "\n",
        "        if len(filteredRowPatern) > len(pattern):\n",
        "            for i in range(len(filteredRowPatern) - len(pattern)):\n",
        "                grade -= filteredRowPatern[i + len(pattern)]\n",
        "\n",
        "        return grade\n",
        "\n",
        "    def fitness_func(solution, solution_idx):\n",
        "        rowsGrade = 0\n",
        "        for i in range(height):\n",
        "            row = solution[i * width: i * width + width]\n",
        "            grade = gradeFunc(row, horizontalPattern[i])\n",
        "            rowsGrade += grade\n",
        "\n",
        "        columnsGrade = 0\n",
        "        for i in range(width):\n",
        "            column = []\n",
        "            for j in range(height):\n",
        "                column.append(solution[j * height + i])\n",
        "            grade = gradeFunc(column, verticalPattern[i])\n",
        "            columnsGrade += grade\n",
        "\n",
        "        fitness = rowsGrade + columnsGrade\n",
        "        return fitness\n",
        "\n",
        "    gene_space = [0, 1]\n",
        "    num_genes = height * width\n",
        "    fitness_function = fitness_func\n",
        "    sol_per_pop = 100\n",
        "\n",
        "    num_parents_mating = 42\n",
        "    num_generations = 5000\n",
        "    keep_parents = 6\n",
        "    parent_selection_type = \"sss\"\n",
        "    crossover_type = \"single_point\"\n",
        "    mutation_type = \"random\"\n",
        "    mutation_percent_genes = getPercentageOfMutations(num_genes)\n",
        "    stop_criteria = [\"reach_0\", \"saturate_200\"]\n",
        "\n",
        "    ga_instance = pygad.GA(gene_space=gene_space,\n",
        "                        num_generations=num_generations,\n",
        "                        num_parents_mating=num_parents_mating,\n",
        "                        fitness_func=fitness_function,\n",
        "                        sol_per_pop=sol_per_pop,\n",
        "                        num_genes=num_genes,\n",
        "                        parent_selection_type=parent_selection_type,\n",
        "                        keep_parents=keep_parents,\n",
        "                        crossover_type=crossover_type,\n",
        "                        mutation_type=mutation_type,\n",
        "                        mutation_percent_genes=mutation_percent_genes,\n",
        "                        stop_criteria=stop_criteria)\n",
        "    ga_instance.run()\n",
        "    print(\"Generations:\", ga_instance.generations_completed, \"Fitness:\", ga_instance.best_solution()[1])\n",
        "\n",
        "    genes = ga_instance.best_solution()[0]\n",
        "\n",
        "    if ga_instance.best_solution()[1] != 0:\n",
        "        print(\"Mistakes in paterns:\")\n",
        "\n",
        "        print(\"rows\")\n",
        "        for i in range(height):\n",
        "                row = genes[i * width: i * width + width]\n",
        "                grade = gradeFunc(row, horizontalPattern[i])\n",
        "                print(row, grade)\n",
        "\n",
        "        print(\"columns\")\n",
        "        for i in range(width):\n",
        "            column = []\n",
        "            for j in range(height):\n",
        "                column.append(int(genes[j * height + i]))\n",
        "            grade = gradeFunc(column, verticalPattern[i])\n",
        "            print(column, grade)\n",
        "\n",
        "    img = createImg(genes, height, width)\n",
        "\n",
        "    # wyświetlanie wygenerowanego obrazka w konsoli\n",
        "    for i in range(height):\n",
        "            for j in range(width):\n",
        "                if img[i][j] == 0:\n",
        "                    print(\"██\", end=\"\")\n",
        "                else:\n",
        "                    print(\"░░\", end=\"\")\n",
        "            print(\"\")\n",
        "\n",
        "    plt.imshow(img, cmap=\"gray\")\n",
        "    ga_instance.plot_fitness()\n",
        "    plt.show()\n",
        "    return ga_instance\n",
        "\n",
        "runAlgorythmV1(verticalM10, horizontalM10)"
      ]
    },
    {
      "cell_type": "code",
      "execution_count": null,
      "metadata": {},
      "outputs": [],
      "source": []
    }
  ],
  "metadata": {
    "interpreter": {
      "hash": "6f55a49c71696af7318fff72c448afdc9296fdbfd54bc7177e711c6ffc189dcb"
    },
    "kernelspec": {
      "display_name": "Pyolite",
      "language": "python",
      "name": "python3"
    },
    "language_info": {
      "codemirror_mode": {
        "name": "python",
        "version": 3
      },
      "file_extension": ".py",
      "mimetype": "text/x-python",
      "name": "python",
      "nbconvert_exporter": "python",
      "pygments_lexer": "ipython3",
      "version": "3.9.0"
    },
    "toc-autonumbering": false,
    "toc-showcode": true,
    "toc-showmarkdowntxt": true
  },
  "nbformat": 4,
  "nbformat_minor": 4
}
