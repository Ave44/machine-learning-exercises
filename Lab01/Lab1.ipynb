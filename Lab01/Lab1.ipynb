{
  "cells": [
    {
      "cell_type": "markdown",
      "metadata": {},
      "source": [
        "# Zadanie 1"
      ]
    },
    {
      "cell_type": "code",
      "execution_count": 3,
      "metadata": {
        "trusted": true
      },
      "outputs": [
        {
          "name": "stdout",
          "output_type": "stream",
          "text": [
            "1 False\n",
            "2 True\n",
            "3 True\n",
            "4 False\n",
            "5 True\n",
            "6 False\n",
            "11 True\n"
          ]
        }
      ],
      "source": [
        "def prime(n):\n",
        "    if (n < 2):\n",
        "        return False\n",
        "    lista = []\n",
        "    for i in range(int((n-1)/2)):\n",
        "        lista.append(i+2)\n",
        "    while len(lista) != 0:\n",
        "        x = lista[0]\n",
        "        if(n % x == 0):\n",
        "            return False\n",
        "        lista.remove(x)\n",
        "        lista = removeMultipies(x, lista)\n",
        "    return True\n",
        "\n",
        "def removeMultipies(n, lista):\n",
        "    nowaLista = []\n",
        "    for i in lista:\n",
        "        if(i % n != 0):\n",
        "            nowaLista.append(i)\n",
        "    return nowaLista\n",
        "\n",
        "print(1,prime(1))\n",
        "print(2,prime(2))\n",
        "print(3,prime(3))\n",
        "print(4,prime(4))\n",
        "print(5,prime(5))\n",
        "print(6,prime(6))\n",
        "print(11,prime(11))"
      ]
    },
    {
      "cell_type": "code",
      "execution_count": 4,
      "metadata": {
        "trusted": true
      },
      "outputs": [
        {
          "name": "stdout",
          "output_type": "stream",
          "text": [
            "[2, 3, 5, 7, 11, 17, 19]\n"
          ]
        }
      ],
      "source": [
        "def select_primes(lista):\n",
        "    pierwsze = []\n",
        "    for i in lista:\n",
        "        if(prime(i)):\n",
        "            pierwsze.append(i)\n",
        "    return pierwsze\n",
        "\n",
        "print(select_primes([1,2,3,4,5,6,7,8,9,10,11,12,17,19,20,21,49]))"
      ]
    },
    {
      "cell_type": "markdown",
      "metadata": {},
      "source": [
        "# Zadanie 2"
      ]
    },
    {
      "cell_type": "code",
      "execution_count": 5,
      "metadata": {
        "trusted": true
      },
      "outputs": [
        {
          "name": "stdout",
          "output_type": "stream",
          "text": [
            "\n",
            "sum [11, 15, 16, 15, 18]\n",
            "\n",
            "iloczyn [24, 56, 63, 50, 72]\n"
          ]
        }
      ],
      "source": [
        "import random\n",
        "import math\n",
        "\n",
        "a = [3, 8, 9, 10, 12]\n",
        "b = [8, 7, 7, 5, 6]\n",
        "\n",
        "def sum(a, b):\n",
        "    vector = []\n",
        "    for i in range(len(a)):\n",
        "        vector.append(a[i]+b[i])\n",
        "    return vector\n",
        "\n",
        "print('\\nsum', sum(a, b))\n",
        "\n",
        "def iloczyn(a, b):\n",
        "    vector = []\n",
        "    for i in range(len(a)):\n",
        "        vector.append(a[i]*b[i])\n",
        "    return vector\n",
        "\n",
        "print('\\niloczyn', iloczyn(a, b))"
      ]
    },
    {
      "cell_type": "code",
      "execution_count": 6,
      "metadata": {
        "trusted": true
      },
      "outputs": [
        {
          "name": "stdout",
          "output_type": "stream",
          "text": [
            "\n",
            "iloczyn skalarny 265\n"
          ]
        }
      ],
      "source": [
        "def iloczyn_skalarny(a, b):\n",
        "    result = 0\n",
        "    for i in range(len(a)):\n",
        "        result = result + a[i]*b[i]\n",
        "    return result\n",
        "\n",
        "print('\\niloczyn skalarny', iloczyn_skalarny(a, b))"
      ]
    },
    {
      "cell_type": "code",
      "execution_count": 7,
      "metadata": {
        "trusted": true
      },
      "outputs": [
        {
          "name": "stdout",
          "output_type": "stream",
          "text": [
            "\n",
            "eukl 19.949937343260004\n"
          ]
        }
      ],
      "source": [
        "def eukl(vector):\n",
        "    result = 0\n",
        "    for i in range(len(a)):\n",
        "        result = result + a[i]*a[i]\n",
        "    return math.sqrt(result)\n",
        "\n",
        "print('\\neukl', eukl(a))"
      ]
    },
    {
      "cell_type": "code",
      "execution_count": 8,
      "metadata": {
        "trusted": true
      },
      "outputs": [
        {
          "name": "stdout",
          "output_type": "stream",
          "text": [
            "\n",
            "vector [88, 99, 98, 42, 12, 84, 72, 5, 11, 25, 78, 5, 58, 55, 95, 33, 22, 91, 62, 57, 13, 85, 29, 73, 27, 17, 70, 48, 33, 18, 43, 55, 47, 12, 20, 41, 51, 82, 72, 99, 73, 42, 85, 59, 78, 56, 50, 94, 15, 41]\n"
          ]
        }
      ],
      "source": [
        "def create_rand_vector(dim):\n",
        "    vector = []\n",
        "    for i in range(dim):\n",
        "        vector.append(random.randint(1, 100))\n",
        "    return vector\n",
        "\n",
        "vec = create_rand_vector(50)\n",
        "print('\\nvector', vec)"
      ]
    },
    {
      "cell_type": "code",
      "execution_count": 9,
      "metadata": {
        "trusted": true
      },
      "outputs": [
        {
          "name": "stdout",
          "output_type": "stream",
          "text": [
            "\n",
            "avg 52.4\n",
            "\n",
            "min 5\n",
            "\n",
            "max 99\n",
            "\n",
            "sd 28.4\n"
          ]
        }
      ],
      "source": [
        "def average(vec):\n",
        "    sum = 0\n",
        "    for i in vec:\n",
        "        sum += i\n",
        "    return sum/len(vec)\n",
        "\n",
        "def minimum(vec):\n",
        "    min = vec[0]\n",
        "    for i in vec:\n",
        "        if(i < min):\n",
        "            min = i\n",
        "    return min\n",
        "\n",
        "def maximum(vec):\n",
        "    max = vec[0]\n",
        "    for i in vec:\n",
        "        if(i > max):\n",
        "            max = i\n",
        "    return max\n",
        "\n",
        "def standard_deviation(vec):\n",
        "    avg = average(vec)\n",
        "    sum = 0\n",
        "    for i in vec:\n",
        "        sum += pow(i-avg, 2)\n",
        "    return math.sqrt(sum/(len(vec)))\n",
        "\n",
        "print('\\navg', average(vec))\n",
        "print('\\nmin', minimum(vec))\n",
        "print('\\nmax', maximum(vec))\n",
        "print('\\nsd', standard_deviation(vec))"
      ]
    },
    {
      "cell_type": "code",
      "execution_count": 10,
      "metadata": {
        "trusted": true
      },
      "outputs": [
        {
          "name": "stdout",
          "output_type": "stream",
          "text": [
            "\n",
            "normalize [0.8829787234042553, 1.0, 0.9893617021276596, 0.39361702127659576, 0.07446808510638298, 0.8404255319148937, 0.7127659574468085, 0.0, 0.06382978723404255, 0.2127659574468085, 0.776595744680851, 0.0, 0.5638297872340425, 0.5319148936170213, 0.9574468085106383, 0.2978723404255319, 0.18085106382978725, 0.9148936170212766, 0.6063829787234043, 0.5531914893617021, 0.0851063829787234, 0.851063829787234, 0.2553191489361702, 0.723404255319149, 0.23404255319148937, 0.1276595744680851, 0.6914893617021277, 0.4574468085106383, 0.2978723404255319, 0.13829787234042554, 0.40425531914893614, 0.5319148936170213, 0.44680851063829785, 0.07446808510638298, 0.1595744680851064, 0.3829787234042553, 0.48936170212765956, 0.8191489361702128, 0.7127659574468085, 1.0, 0.723404255319149, 0.39361702127659576, 0.851063829787234, 0.574468085106383, 0.776595744680851, 0.5425531914893617, 0.4787234042553192, 0.9468085106382979, 0.10638297872340426, 0.3829787234042553]\n"
          ]
        }
      ],
      "source": [
        "def normalize(vec):\n",
        "    min = minimum(vec)\n",
        "    max = maximum(vec)\n",
        "    normalized_vec = []\n",
        "    for i in vec:\n",
        "        normalized_vec.append((i-min)/(max-min))\n",
        "    return normalized_vec\n",
        "\n",
        "print('\\nnormalize', normalize(vec)) # na miejscu max stoi 1, a min 0"
      ]
    },
    {
      "cell_type": "code",
      "execution_count": 12,
      "metadata": {
        "trusted": true
      },
      "outputs": [
        {
          "name": "stdout",
          "output_type": "stream",
          "text": [
            "\n",
            "standarize [1.2535211267605635, 1.6408450704225352, 1.6056338028169015, -0.3661971830985915, -1.4225352112676057, 1.1126760563380282, 0.6901408450704226, -1.6690140845070423, -1.4577464788732395, -0.9647887323943662, 0.9014084507042255, -1.6690140845070423, 0.19718309859154937, 0.09154929577464795, 1.5000000000000002, -0.6830985915492958, -1.0704225352112675, 1.359154929577465, 0.33802816901408456, 0.16197183098591555, -1.3873239436619718, 1.147887323943662, -0.823943661971831, 0.7253521126760564, -0.8943661971830986, -1.2464788732394367, 0.619718309859155, -0.1549295774647887, -0.6830985915492958, -1.2112676056338028, -0.3309859154929577, 0.09154929577464795, -0.1901408450704225, -1.4225352112676057, -1.1408450704225352, -0.4014084507042253, -0.04929577464788728, 1.0422535211267607, 0.6901408450704226, 1.6408450704225352, 0.7253521126760564, -0.3661971830985915, 1.147887323943662, 0.23239436619718315, 0.9014084507042255, 0.12676056338028174, -0.08450704225352108, 1.4647887323943662, -1.3169014084507042, -0.4014084507042253]\n",
            "\n",
            "standarize avg 5.2180482157382354e-17\n",
            "\n",
            "standarize sd 1.0\n"
          ]
        }
      ],
      "source": [
        "def standarize(vec):\n",
        "    avg = average(vec)\n",
        "    sd = standard_deviation(vec)\n",
        "    stanarized_vec = []\n",
        "    for i in vec:\n",
        "        stanarized_vec.append((i-avg)/sd)\n",
        "    return stanarized_vec\n",
        "\n",
        "z = standarize(vec)\n",
        "print('\\nstandarize', z) \n",
        "print('\\nstandarize avg', average(z)) # 0\n",
        "print('\\nstandarize sd', standard_deviation(z))  # 1"
      ]
    },
    {
      "cell_type": "code",
      "execution_count": 13,
      "metadata": {
        "trusted": true
      },
      "outputs": [
        {
          "name": "stdout",
          "output_type": "stream",
          "text": [
            "discretize ['[80, 90)', '[90, 100]', '[90, 100]', '[40, 50)', '[10, 20)', '[80, 90)', '[70, 80)', '[0, 10)', '[10, 20)', '[20, 30)', '[70, 80)', '[0, 10)', '[50, 60)', '[50, 60)', '[90, 100]', '[30, 40)', '[20, 30)', '[90, 100]', '[60, 70)', '[50, 60)', '[10, 20)', '[80, 90)', '[20, 30)', '[70, 80)', '[20, 30)', '[10, 20)', '[70, 80)', '[40, 50)', '[30, 40)', '[10, 20)', '[40, 50)', '[50, 60)', '[40, 50)', '[10, 20)', '[20, 30)', '[40, 50)', '[50, 60)', '[80, 90)', '[70, 80)', '[90, 100]', '[70, 80)', '[40, 50)', '[80, 90)', '[50, 60)', '[70, 80)', '[50, 60)', '[50, 60)', '[90, 100]', '[10, 20)', '[40, 50)']\n"
          ]
        }
      ],
      "source": [
        "def discretize(vec):\n",
        "    discretized_vec = []\n",
        "    for i in vec:\n",
        "        discretized_vec.append(get_range(i))\n",
        "    return discretized_vec\n",
        "\n",
        "def get_range(n):\n",
        "    ranges = [10,20,30,40,50,60,70,80,90]\n",
        "    for i in ranges:\n",
        "        if(n < i):\n",
        "            return '[' + str(i-10) + ', ' + str(i) + ')'\n",
        "    return '[90, 100]'\n",
        "\n",
        "print('discretize', discretize(vec))"
      ]
    },
    {
      "cell_type": "markdown",
      "metadata": {},
      "source": [
        "# Zadanie 3\n",
        "należy uruchomić manualnie z powodu importu z pliku csv"
      ]
    }
  ],
  "metadata": {
    "interpreter": {
      "hash": "6f55a49c71696af7318fff72c448afdc9296fdbfd54bc7177e711c6ffc189dcb"
    },
    "kernelspec": {
      "display_name": "Pyolite",
      "language": "python",
      "name": "python3"
    },
    "language_info": {
      "codemirror_mode": {
        "name": "python",
        "version": 3
      },
      "file_extension": ".py",
      "mimetype": "text/x-python",
      "name": "python",
      "nbconvert_exporter": "python",
      "pygments_lexer": "ipython3",
      "version": "3.9.0"
    }
  },
  "nbformat": 4,
  "nbformat_minor": 4
}
